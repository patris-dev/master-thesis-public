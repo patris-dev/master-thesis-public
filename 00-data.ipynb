{
 "cells": [
  {
   "cell_type": "code",
   "execution_count": 158,
   "metadata": {},
   "outputs": [
    {
     "data": {
      "text/plain": [
       "2147483647"
      ]
     },
     "execution_count": 158,
     "metadata": {},
     "output_type": "execute_result"
    }
   ],
   "source": [
    "import csv\n",
    "import datetime\n",
    "import time\n",
    "import re\n",
    "from selenium.webdriver import Firefox\n",
    "from selenium.webdriver.firefox.options import Options\n",
    "import pandas as pd\n",
    "import translators as ts\n",
    "pd.options.mode.chained_assignment = None\n",
    "csv.field_size_limit(2147483647)"
   ]
  },
  {
   "cell_type": "code",
   "execution_count": 159,
   "metadata": {},
   "outputs": [
    {
     "data": {
      "text/html": [
       "<div>\n",
       "<style scoped>\n",
       "    .dataframe tbody tr th:only-of-type {\n",
       "        vertical-align: middle;\n",
       "    }\n",
       "\n",
       "    .dataframe tbody tr th {\n",
       "        vertical-align: top;\n",
       "    }\n",
       "\n",
       "    .dataframe thead th {\n",
       "        text-align: right;\n",
       "    }\n",
       "</style>\n",
       "<table border=\"1\" class=\"dataframe\">\n",
       "  <thead>\n",
       "    <tr style=\"text-align: right;\">\n",
       "      <th></th>\n",
       "      <th>user_id</th>\n",
       "      <th>name</th>\n",
       "      <th>short_description</th>\n",
       "      <th>long_description</th>\n",
       "      <th>link</th>\n",
       "      <th>video</th>\n",
       "      <th>credits</th>\n",
       "      <th>category</th>\n",
       "      <th>country_id</th>\n",
       "      <th>award_year</th>\n",
       "      <th>...</th>\n",
       "      <th>bmc_partners</th>\n",
       "      <th>bmc_activities</th>\n",
       "      <th>bmc_resources</th>\n",
       "      <th>bmc_value_propositions</th>\n",
       "      <th>bmc_customer_relationships</th>\n",
       "      <th>bmc_channels</th>\n",
       "      <th>bmc_customer_segments</th>\n",
       "      <th>bmc_cost_structure</th>\n",
       "      <th>bmc_revenue_streams</th>\n",
       "      <th>self</th>\n",
       "    </tr>\n",
       "    <tr>\n",
       "      <th>id</th>\n",
       "      <th></th>\n",
       "      <th></th>\n",
       "      <th></th>\n",
       "      <th></th>\n",
       "      <th></th>\n",
       "      <th></th>\n",
       "      <th></th>\n",
       "      <th></th>\n",
       "      <th></th>\n",
       "      <th></th>\n",
       "      <th></th>\n",
       "      <th></th>\n",
       "      <th></th>\n",
       "      <th></th>\n",
       "      <th></th>\n",
       "      <th></th>\n",
       "      <th></th>\n",
       "      <th></th>\n",
       "      <th></th>\n",
       "      <th></th>\n",
       "      <th></th>\n",
       "    </tr>\n",
       "  </thead>\n",
       "  <tbody>\n",
       "    <tr>\n",
       "      <th>1</th>\n",
       "      <td>1</td>\n",
       "      <td>Scanadu</td>\n",
       "      <td>A scanner packed with sensors that enables any...</td>\n",
       "      <td>As if it is reading your mind, the Scanadu Sco...</td>\n",
       "      <td>https://www.scanadu.com/scout/</td>\n",
       "      <td>&lt;iframe width=\"560\" height=\"315\" src=\"//www.yo...</td>\n",
       "      <td>Yves Béhar</td>\n",
       "      <td>1.0</td>\n",
       "      <td>203.0</td>\n",
       "      <td>2015</td>\n",
       "      <td>...</td>\n",
       "      <td>NaN</td>\n",
       "      <td>NaN</td>\n",
       "      <td>NaN</td>\n",
       "      <td>NaN</td>\n",
       "      <td>NaN</td>\n",
       "      <td>NaN</td>\n",
       "      <td>NaN</td>\n",
       "      <td>NaN</td>\n",
       "      <td>NaN</td>\n",
       "      <td>0</td>\n",
       "    </tr>\n",
       "    <tr>\n",
       "      <th>10</th>\n",
       "      <td>4</td>\n",
       "      <td>Oculus Rift</td>\n",
       "      <td>Oculus Rift in an effort to revolutionize the ...</td>\n",
       "      <td>Virtual Reality have been talked about for yea...</td>\n",
       "      <td>http://www.oculus.com</td>\n",
       "      <td>&lt;iframe width=\"640\" height=\"360\" src=\"//www.yo...</td>\n",
       "      <td>Palmer Luckey: Oculus VR® &amp; © 2014 Oculus VR, ...</td>\n",
       "      <td>4.0</td>\n",
       "      <td>203.0</td>\n",
       "      <td>2015</td>\n",
       "      <td>...</td>\n",
       "      <td>NaN</td>\n",
       "      <td>NaN</td>\n",
       "      <td>NaN</td>\n",
       "      <td>NaN</td>\n",
       "      <td>NaN</td>\n",
       "      <td>NaN</td>\n",
       "      <td>NaN</td>\n",
       "      <td>NaN</td>\n",
       "      <td>NaN</td>\n",
       "      <td>0</td>\n",
       "    </tr>\n",
       "    <tr>\n",
       "      <th>16</th>\n",
       "      <td>4</td>\n",
       "      <td>WRISTIFY</td>\n",
       "      <td>A thermoelectric bracelet that regulates the t...</td>\n",
       "      <td>Wristify by Embr Labs uses all-natural waves o...</td>\n",
       "      <td>http://www.embrlabs.com</td>\n",
       "      <td>&lt;iframe width=\"560\" height=\"315\" src=\"//www.yo...</td>\n",
       "      <td>Embr labs:  Matthew Smith, Sam Shames, Michael...</td>\n",
       "      <td>1.0</td>\n",
       "      <td>203.0</td>\n",
       "      <td>2015</td>\n",
       "      <td>...</td>\n",
       "      <td>NaN</td>\n",
       "      <td>NaN</td>\n",
       "      <td>NaN</td>\n",
       "      <td>NaN</td>\n",
       "      <td>NaN</td>\n",
       "      <td>NaN</td>\n",
       "      <td>NaN</td>\n",
       "      <td>NaN</td>\n",
       "      <td>NaN</td>\n",
       "      <td>0</td>\n",
       "    </tr>\n",
       "    <tr>\n",
       "      <th>17</th>\n",
       "      <td>4</td>\n",
       "      <td>Liftware</td>\n",
       "      <td>Tremor cancellation device thats fits into the...</td>\n",
       "      <td>The Liftware system is designed for people who...</td>\n",
       "      <td>http://www.liftlabsdesign.com</td>\n",
       "      <td>&lt;iframe width=\"560\" height=\"315\" src=\"//www.yo...</td>\n",
       "      <td>Lift Labs - Lynx Design, Inc.</td>\n",
       "      <td>1.0</td>\n",
       "      <td>203.0</td>\n",
       "      <td>2015</td>\n",
       "      <td>...</td>\n",
       "      <td>NaN</td>\n",
       "      <td>NaN</td>\n",
       "      <td>NaN</td>\n",
       "      <td>NaN</td>\n",
       "      <td>NaN</td>\n",
       "      <td>NaN</td>\n",
       "      <td>NaN</td>\n",
       "      <td>NaN</td>\n",
       "      <td>NaN</td>\n",
       "      <td>0</td>\n",
       "    </tr>\n",
       "    <tr>\n",
       "      <th>18</th>\n",
       "      <td>4</td>\n",
       "      <td>Sproutling</td>\n",
       "      <td>The world's first sensing, learning, predictin...</td>\n",
       "      <td>A wearable band for your baby, a smart charger...</td>\n",
       "      <td>http://www.sproutling.com</td>\n",
       "      <td>&lt;iframe width=\"560\" height=\"315\" src=\"//www.yo...</td>\n",
       "      <td>Sproutling</td>\n",
       "      <td>1.0</td>\n",
       "      <td>203.0</td>\n",
       "      <td>2015</td>\n",
       "      <td>...</td>\n",
       "      <td>NaN</td>\n",
       "      <td>NaN</td>\n",
       "      <td>NaN</td>\n",
       "      <td>NaN</td>\n",
       "      <td>NaN</td>\n",
       "      <td>NaN</td>\n",
       "      <td>NaN</td>\n",
       "      <td>NaN</td>\n",
       "      <td>NaN</td>\n",
       "      <td>0</td>\n",
       "    </tr>\n",
       "    <tr>\n",
       "      <th>...</th>\n",
       "      <td>...</td>\n",
       "      <td>...</td>\n",
       "      <td>...</td>\n",
       "      <td>...</td>\n",
       "      <td>...</td>\n",
       "      <td>...</td>\n",
       "      <td>...</td>\n",
       "      <td>...</td>\n",
       "      <td>...</td>\n",
       "      <td>...</td>\n",
       "      <td>...</td>\n",
       "      <td>...</td>\n",
       "      <td>...</td>\n",
       "      <td>...</td>\n",
       "      <td>...</td>\n",
       "      <td>...</td>\n",
       "      <td>...</td>\n",
       "      <td>...</td>\n",
       "      <td>...</td>\n",
       "      <td>...</td>\n",
       "      <td>...</td>\n",
       "    </tr>\n",
       "    <tr>\n",
       "      <th>7738</th>\n",
       "      <td>6696</td>\n",
       "      <td>Algae-powered photovoltaic cell</td>\n",
       "      <td>Using algae to power a microprocessor with not...</td>\n",
       "      <td>NaN</td>\n",
       "      <td>https://www.cam.ac.uk/research/news/scientists...</td>\n",
       "      <td>NaN</td>\n",
       "      <td>P. Bombelli et al</td>\n",
       "      <td>3.0</td>\n",
       "      <td>128.0</td>\n",
       "      <td>2023</td>\n",
       "      <td>...</td>\n",
       "      <td>NaN</td>\n",
       "      <td>NaN</td>\n",
       "      <td>NaN</td>\n",
       "      <td>NaN</td>\n",
       "      <td>NaN</td>\n",
       "      <td>NaN</td>\n",
       "      <td>NaN</td>\n",
       "      <td>NaN</td>\n",
       "      <td>NaN</td>\n",
       "      <td>0</td>\n",
       "    </tr>\n",
       "    <tr>\n",
       "      <th>7739</th>\n",
       "      <td>6696</td>\n",
       "      <td>Elonroad</td>\n",
       "      <td>A holistic charging solution for all electric ...</td>\n",
       "      <td>NaN</td>\n",
       "      <td>https://elonroad.com</td>\n",
       "      <td>https://www.youtube.com/embed/lH1QdxezKoY</td>\n",
       "      <td>Elonroad</td>\n",
       "      <td>5.0</td>\n",
       "      <td>127.0</td>\n",
       "      <td>2023</td>\n",
       "      <td>...</td>\n",
       "      <td>NaN</td>\n",
       "      <td>NaN</td>\n",
       "      <td>NaN</td>\n",
       "      <td>NaN</td>\n",
       "      <td>NaN</td>\n",
       "      <td>NaN</td>\n",
       "      <td>NaN</td>\n",
       "      <td>NaN</td>\n",
       "      <td>NaN</td>\n",
       "      <td>0</td>\n",
       "    </tr>\n",
       "    <tr>\n",
       "      <th>7740</th>\n",
       "      <td>6680</td>\n",
       "      <td>Critter Cuts</td>\n",
       "      <td>To encourage families so they can prepare, coo...</td>\n",
       "      <td>NaN</td>\n",
       "      <td>https://kellyrahardja.com/Critter-Cuts</td>\n",
       "      <td>NaN</td>\n",
       "      <td>Kelly Rahardja</td>\n",
       "      <td>4.0</td>\n",
       "      <td>80.0</td>\n",
       "      <td>2023</td>\n",
       "      <td>...</td>\n",
       "      <td>NaN</td>\n",
       "      <td>NaN</td>\n",
       "      <td>NaN</td>\n",
       "      <td>NaN</td>\n",
       "      <td>NaN</td>\n",
       "      <td>NaN</td>\n",
       "      <td>NaN</td>\n",
       "      <td>NaN</td>\n",
       "      <td>NaN</td>\n",
       "      <td>0</td>\n",
       "    </tr>\n",
       "    <tr>\n",
       "      <th>7741</th>\n",
       "      <td>6696</td>\n",
       "      <td>BanQu</td>\n",
       "      <td>Know who harvests your crops, who collects you...</td>\n",
       "      <td>NaN</td>\n",
       "      <td>https://banqu.co/</td>\n",
       "      <td>https://player.vimeo.com/video/289421772</td>\n",
       "      <td>BanQu</td>\n",
       "      <td>3.0</td>\n",
       "      <td>203.0</td>\n",
       "      <td>2023</td>\n",
       "      <td>...</td>\n",
       "      <td>NaN</td>\n",
       "      <td>NaN</td>\n",
       "      <td>NaN</td>\n",
       "      <td>NaN</td>\n",
       "      <td>NaN</td>\n",
       "      <td>NaN</td>\n",
       "      <td>NaN</td>\n",
       "      <td>NaN</td>\n",
       "      <td>NaN</td>\n",
       "      <td>0</td>\n",
       "    </tr>\n",
       "    <tr>\n",
       "      <th>7742</th>\n",
       "      <td>6680</td>\n",
       "      <td>PUBLIC WATER FILTER</td>\n",
       "      <td>It is a filter and UV sterilizer that does not...</td>\n",
       "      <td>NaN</td>\n",
       "      <td>https://www.idesignawards.com/winners/zoom.php...</td>\n",
       "      <td>NaN</td>\n",
       "      <td>I-Jie Tsay, Yu-Ching Chiu,Yi-Yun Li, Min-Hua Tsai</td>\n",
       "      <td>1.0</td>\n",
       "      <td>230.0</td>\n",
       "      <td>2023</td>\n",
       "      <td>...</td>\n",
       "      <td>NaN</td>\n",
       "      <td>NaN</td>\n",
       "      <td>NaN</td>\n",
       "      <td>NaN</td>\n",
       "      <td>NaN</td>\n",
       "      <td>NaN</td>\n",
       "      <td>NaN</td>\n",
       "      <td>NaN</td>\n",
       "      <td>NaN</td>\n",
       "      <td>0</td>\n",
       "    </tr>\n",
       "  </tbody>\n",
       "</table>\n",
       "<p>7475 rows × 42 columns</p>\n",
       "</div>"
      ],
      "text/plain": [
       "      user_id                             name  \\\n",
       "id                                               \n",
       "1           1                          Scanadu   \n",
       "10          4                      Oculus Rift   \n",
       "16          4                        WRISTIFY    \n",
       "17          4                         Liftware   \n",
       "18          4                      Sproutling    \n",
       "...       ...                              ...   \n",
       "7738     6696  Algae-powered photovoltaic cell   \n",
       "7739     6696                         Elonroad   \n",
       "7740     6680                     Critter Cuts   \n",
       "7741     6696                            BanQu   \n",
       "7742     6680              PUBLIC WATER FILTER   \n",
       "\n",
       "                                      short_description  \\\n",
       "id                                                        \n",
       "1     A scanner packed with sensors that enables any...   \n",
       "10    Oculus Rift in an effort to revolutionize the ...   \n",
       "16    A thermoelectric bracelet that regulates the t...   \n",
       "17    Tremor cancellation device thats fits into the...   \n",
       "18    The world's first sensing, learning, predictin...   \n",
       "...                                                 ...   \n",
       "7738  Using algae to power a microprocessor with not...   \n",
       "7739  A holistic charging solution for all electric ...   \n",
       "7740  To encourage families so they can prepare, coo...   \n",
       "7741  Know who harvests your crops, who collects you...   \n",
       "7742  It is a filter and UV sterilizer that does not...   \n",
       "\n",
       "                                       long_description  \\\n",
       "id                                                        \n",
       "1     As if it is reading your mind, the Scanadu Sco...   \n",
       "10    Virtual Reality have been talked about for yea...   \n",
       "16    Wristify by Embr Labs uses all-natural waves o...   \n",
       "17    The Liftware system is designed for people who...   \n",
       "18    A wearable band for your baby, a smart charger...   \n",
       "...                                                 ...   \n",
       "7738                                                NaN   \n",
       "7739                                                NaN   \n",
       "7740                                                NaN   \n",
       "7741                                                NaN   \n",
       "7742                                                NaN   \n",
       "\n",
       "                                                   link  \\\n",
       "id                                                        \n",
       "1                        https://www.scanadu.com/scout/   \n",
       "10                                http://www.oculus.com   \n",
       "16                              http://www.embrlabs.com   \n",
       "17                        http://www.liftlabsdesign.com   \n",
       "18                            http://www.sproutling.com   \n",
       "...                                                 ...   \n",
       "7738  https://www.cam.ac.uk/research/news/scientists...   \n",
       "7739                               https://elonroad.com   \n",
       "7740             https://kellyrahardja.com/Critter-Cuts   \n",
       "7741                                  https://banqu.co/   \n",
       "7742  https://www.idesignawards.com/winners/zoom.php...   \n",
       "\n",
       "                                                  video  \\\n",
       "id                                                        \n",
       "1     <iframe width=\"560\" height=\"315\" src=\"//www.yo...   \n",
       "10    <iframe width=\"640\" height=\"360\" src=\"//www.yo...   \n",
       "16    <iframe width=\"560\" height=\"315\" src=\"//www.yo...   \n",
       "17    <iframe width=\"560\" height=\"315\" src=\"//www.yo...   \n",
       "18    <iframe width=\"560\" height=\"315\" src=\"//www.yo...   \n",
       "...                                                 ...   \n",
       "7738                                                NaN   \n",
       "7739          https://www.youtube.com/embed/lH1QdxezKoY   \n",
       "7740                                                NaN   \n",
       "7741           https://player.vimeo.com/video/289421772   \n",
       "7742                                                NaN   \n",
       "\n",
       "                                                credits  category  country_id  \\\n",
       "id                                                                              \n",
       "1                                            Yves Béhar       1.0       203.0   \n",
       "10    Palmer Luckey: Oculus VR® & © 2014 Oculus VR, ...       4.0       203.0   \n",
       "16    Embr labs:  Matthew Smith, Sam Shames, Michael...       1.0       203.0   \n",
       "17                        Lift Labs - Lynx Design, Inc.       1.0       203.0   \n",
       "18                                          Sproutling        1.0       203.0   \n",
       "...                                                 ...       ...         ...   \n",
       "7738                                  P. Bombelli et al       3.0       128.0   \n",
       "7739                                           Elonroad       5.0       127.0   \n",
       "7740                                     Kelly Rahardja       4.0        80.0   \n",
       "7741                                              BanQu       3.0       203.0   \n",
       "7742  I-Jie Tsay, Yu-Ching Chiu,Yi-Yun Li, Min-Hua Tsai       1.0       230.0   \n",
       "\n",
       "      award_year  ... bmc_partners  bmc_activities bmc_resources  \\\n",
       "id                ...                                              \n",
       "1           2015  ...          NaN             NaN           NaN   \n",
       "10          2015  ...          NaN             NaN           NaN   \n",
       "16          2015  ...          NaN             NaN           NaN   \n",
       "17          2015  ...          NaN             NaN           NaN   \n",
       "18          2015  ...          NaN             NaN           NaN   \n",
       "...          ...  ...          ...             ...           ...   \n",
       "7738        2023  ...          NaN             NaN           NaN   \n",
       "7739        2023  ...          NaN             NaN           NaN   \n",
       "7740        2023  ...          NaN             NaN           NaN   \n",
       "7741        2023  ...          NaN             NaN           NaN   \n",
       "7742        2023  ...          NaN             NaN           NaN   \n",
       "\n",
       "     bmc_value_propositions bmc_customer_relationships  bmc_channels  \\\n",
       "id                                                                     \n",
       "1                       NaN                        NaN           NaN   \n",
       "10                      NaN                        NaN           NaN   \n",
       "16                      NaN                        NaN           NaN   \n",
       "17                      NaN                        NaN           NaN   \n",
       "18                      NaN                        NaN           NaN   \n",
       "...                     ...                        ...           ...   \n",
       "7738                    NaN                        NaN           NaN   \n",
       "7739                    NaN                        NaN           NaN   \n",
       "7740                    NaN                        NaN           NaN   \n",
       "7741                    NaN                        NaN           NaN   \n",
       "7742                    NaN                        NaN           NaN   \n",
       "\n",
       "     bmc_customer_segments bmc_cost_structure bmc_revenue_streams  self  \n",
       "id                                                                       \n",
       "1                      NaN                NaN                 NaN     0  \n",
       "10                     NaN                NaN                 NaN     0  \n",
       "16                     NaN                NaN                 NaN     0  \n",
       "17                     NaN                NaN                 NaN     0  \n",
       "18                     NaN                NaN                 NaN     0  \n",
       "...                    ...                ...                 ...   ...  \n",
       "7738                   NaN                NaN                 NaN     0  \n",
       "7739                   NaN                NaN                 NaN     0  \n",
       "7740                   NaN                NaN                 NaN     0  \n",
       "7741                   NaN                NaN                 NaN     0  \n",
       "7742                   NaN                NaN                 NaN     0  \n",
       "\n",
       "[7475 rows x 42 columns]"
      ]
     },
     "execution_count": 159,
     "metadata": {},
     "output_type": "execute_result"
    }
   ],
   "source": [
    "# Original dataset\n",
    "df = pd.read_csv(\"data/original/designs.csv\", sep=\"‡\", engine=\"python\", index_col=\"id\")\n",
    "df"
   ]
  },
  {
   "attachments": {},
   "cell_type": "markdown",
   "metadata": {},
   "source": [
    "### Adding goals"
   ]
  },
  {
   "cell_type": "code",
   "execution_count": 160,
   "metadata": {},
   "outputs": [
    {
     "data": {
      "text/html": [
       "<div>\n",
       "<style scoped>\n",
       "    .dataframe tbody tr th:only-of-type {\n",
       "        vertical-align: middle;\n",
       "    }\n",
       "\n",
       "    .dataframe tbody tr th {\n",
       "        vertical-align: top;\n",
       "    }\n",
       "\n",
       "    .dataframe thead th {\n",
       "        text-align: right;\n",
       "    }\n",
       "</style>\n",
       "<table border=\"1\" class=\"dataframe\">\n",
       "  <thead>\n",
       "    <tr style=\"text-align: right;\">\n",
       "      <th></th>\n",
       "      <th>design_id</th>\n",
       "      <th>goal_id</th>\n",
       "    </tr>\n",
       "    <tr>\n",
       "      <th>id</th>\n",
       "      <th></th>\n",
       "      <th></th>\n",
       "    </tr>\n",
       "  </thead>\n",
       "  <tbody>\n",
       "    <tr>\n",
       "      <th>11667</th>\n",
       "      <td>7740</td>\n",
       "      <td>25</td>\n",
       "    </tr>\n",
       "    <tr>\n",
       "      <th>11668</th>\n",
       "      <td>7740</td>\n",
       "      <td>5</td>\n",
       "    </tr>\n",
       "    <tr>\n",
       "      <th>11669</th>\n",
       "      <td>7741</td>\n",
       "      <td>8</td>\n",
       "    </tr>\n",
       "    <tr>\n",
       "      <th>11670</th>\n",
       "      <td>7741</td>\n",
       "      <td>12</td>\n",
       "    </tr>\n",
       "    <tr>\n",
       "      <th>11671</th>\n",
       "      <td>7742</td>\n",
       "      <td>3</td>\n",
       "    </tr>\n",
       "  </tbody>\n",
       "</table>\n",
       "</div>"
      ],
      "text/plain": [
       "       design_id  goal_id\n",
       "id                       \n",
       "11667       7740       25\n",
       "11668       7740        5\n",
       "11669       7741        8\n",
       "11670       7741       12\n",
       "11671       7742        3"
      ]
     },
     "execution_count": 160,
     "metadata": {},
     "output_type": "execute_result"
    }
   ],
   "source": [
    "# Design goals (pivot table)\n",
    "dg = pd.read_csv(\"data/original/design-goals.csv\", sep=\"‡\", engine=\"python\", index_col=\"id\")\n",
    "dg.tail()"
   ]
  },
  {
   "cell_type": "code",
   "execution_count": 161,
   "metadata": {},
   "outputs": [
    {
     "data": {
      "text/plain": [
       "id\n",
       "7738       7 9\n",
       "7739       7 9\n",
       "7740    4 25 5\n",
       "7741      8 12\n",
       "7742         3\n",
       "Name: goals, dtype: object"
      ]
     },
     "execution_count": 161,
     "metadata": {},
     "output_type": "execute_result"
    }
   ],
   "source": [
    "# Adding goals from the pivot table to the original dataset\n",
    "df['goals'] = \"\"\n",
    "for dg_row in dg.values:\n",
    "    if dg_row[0] in df.index:\n",
    "        goal_list = df.at[dg_row[0], 'goals'].split()\n",
    "        goal_list.append(dg_row[1])\n",
    "        df.at[dg_row[0], 'goals'] = ' '.join(map(str, goal_list))\n",
    "df.loc[:, 'goals'].tail()"
   ]
  },
  {
   "attachments": {},
   "cell_type": "markdown",
   "metadata": {},
   "source": [
    "### Filtering drafts"
   ]
  },
  {
   "cell_type": "code",
   "execution_count": 162,
   "metadata": {},
   "outputs": [
    {
     "name": "stdout",
     "output_type": "stream",
     "text": [
      "Number of drafts to remove: 13\n"
     ]
    }
   ],
   "source": [
    "# Filtering out drafts\n",
    "print(f\"Number of drafts to remove: {sum(df['status'] == 'draft')}\")\n",
    "df = df.loc[df['status'] != 'draft']"
   ]
  },
  {
   "attachments": {},
   "cell_type": "markdown",
   "metadata": {},
   "source": [
    "### Merging descriptions"
   ]
  },
  {
   "cell_type": "code",
   "execution_count": 163,
   "metadata": {},
   "outputs": [
    {
     "name": "stdout",
     "output_type": "stream",
     "text": [
      "Number of descriptions to merge: 619\n"
     ]
    }
   ],
   "source": [
    "# Merging \"how/why/dtil_description\" into \"long_description\"\n",
    "print(f\"Number of descriptions to merge: {sum(df['long_description'].isnull())}\")\n",
    "df['combined_description'] = df['how_description'] + ' ' + df['why_description'] + ' ' + df['dtil_description']\n",
    "df.long_description.fillna(df.combined_description, inplace=True)\n",
    "df.drop(['dtil_description', 'how_description', 'why_description', 'combined_description'], axis=1, inplace=True)"
   ]
  },
  {
   "attachments": {},
   "cell_type": "markdown",
   "metadata": {},
   "source": [
    "### Converting column datatypes"
   ]
  },
  {
   "cell_type": "code",
   "execution_count": 164,
   "metadata": {},
   "outputs": [
    {
     "data": {
      "text/plain": [
       "id\n",
       "1     1\n",
       "10    4\n",
       "16    1\n",
       "17    1\n",
       "18    1\n",
       "Name: category, dtype: string"
      ]
     },
     "execution_count": 164,
     "metadata": {},
     "output_type": "execute_result"
    }
   ],
   "source": [
    "# Converting category column type to string\n",
    "df = df.astype({'category': 'Int64'}).astype({'category': 'string'})\n",
    "df['category'].head()"
   ]
  },
  {
   "attachments": {},
   "cell_type": "markdown",
   "metadata": {},
   "source": [
    "### Web scraping"
   ]
  },
  {
   "cell_type": "code",
   "execution_count": 165,
   "metadata": {},
   "outputs": [],
   "source": [
    "# Initiates the browser for web scraping\n",
    "def init_browser():\n",
    "    opts = Options()\n",
    "    opts.headless = True\n",
    "    return Firefox(options=opts)"
   ]
  },
  {
   "cell_type": "code",
   "execution_count": 166,
   "metadata": {},
   "outputs": [],
   "source": [
    "# Removes any remaining html tags (most should be removed by the scraper already)\n",
    "def clean_text(txt):\n",
    "    return \" \".join(re.sub(r'<.*?>', ' ', txt).split())"
   ]
  },
  {
   "cell_type": "code",
   "execution_count": 167,
   "metadata": {},
   "outputs": [],
   "source": [
    "# Scraping the title, body and metadata from a page\n",
    "def scrape(url, browser, sleep=0):\n",
    "    time.sleep(sleep)\n",
    "    page_title = page_body = meta_title = meta_description = \"\"\n",
    "    try:\n",
    "        browser.get(url)\n",
    "        time.sleep(sleep)\n",
    "    except:\n",
    "        browser.delete_all_cookies()\n",
    "        return (\"\", \"\", \"\", \"\")\n",
    "    try:\n",
    "        page_title = clean_text(browser.title)\n",
    "    except:\n",
    "        page_title = \"\"\n",
    "    try:\n",
    "        page_body = clean_text(browser.find_element(\"tag name\", \"body\").text)\n",
    "    except:\n",
    "        page_body = \"\"\n",
    "    try:\n",
    "        meta_title = clean_text(browser.find_element(\n",
    "            \"css selector\", \"meta[property='og:title']\").get_attribute(\"content\"))\n",
    "    except:\n",
    "        meta_title = \"\"\n",
    "    try:\n",
    "        meta_description = clean_text(browser.find_element(\n",
    "            \"css selector\", \"meta[property='og:description']\").get_attribute(\"content\"))\n",
    "    except:\n",
    "        meta_description = \"\"\n",
    "    return (page_title, page_body, meta_title, meta_description)"
   ]
  },
  {
   "cell_type": "code",
   "execution_count": 122,
   "metadata": {},
   "outputs": [
    {
     "name": "stdout",
     "output_type": "stream",
     "text": [
      "5522 http://blog.graphisoft.lat/centro-comunitario-la-perseverancia/ Centro Comunitario “La Perseverancia” – GRAPHISOFT Latinoamérica\n",
      "5523 https://www.unocup.com Unocup\n",
      "5524 https://www.runwithrun.com/run-projects/badgood RUN\n",
      "5525 https://www.oui.us \n",
      "5526 https://www.mylo-unleather.com/ Mylo™ Unleather | Sustainable Vegan Mycelium Leather\n",
      "5527 https://www.tomtex.co/ TÔMTEX\n",
      "5528 https://goclove.com Best Shoes For Healthcare Providers - Nurses - Hospitals 2021 | Clove\n",
      "5529 https://slowfactory.foundation/open-education Open Education\n",
      "5530 http://www.fernandolaposse.com/projects/totomoxtle/ Totomoxtle |\n",
      "5531 https://www.behance.net/gallery/103352151/Bukas-Material-Messages-for-OFWs-and-their-families Behance\n",
      "5532 https://sumjaileung.myportfolio.com/polyu-eid-guerrilla-planter Adobe Portfolio | Build your own personalized website\n",
      "5533 https://www.applemok.com/culturalrun-2020 Error\n",
      "5534 https://givepower.org/introducing-first-givepower-solar-water-farm/ Introducing The First GivePower Solar Water Farm - GivePower\n",
      "5535 https://mysteadyshot.com Inject Insulin with STEADY SHOT FOR PEN NEEDLES – Steady Shot\n",
      "5536 http://www.conservify.org/ Conservify – Open Conservation Solutions\n",
      "5537 http://sandlab.cs.uchicago.edu/jammer/ Wearable Microphone Jamming\n",
      "5538 https://innovisiontech.co/brailleme/ Braille Me | innovision - Digital World at Your Fingertips in Braille\n",
      "5539 https://www.proteinreport.org/newswire/future-food-studio-eat-just-opens-its-doors-shanghai Future Food Studio by Eat Just opens its doors in Shanghai | Protein Report\n",
      "5540 https://news.adidas.com/futurecraft/adidas-unlocks-a-circular-future-for-sports-with-futurecraft.loop--a-performance-running-shoe-made-t/s/c2c22316-0c3e-4e7b-8c32-408ad3178865 adidas News Site | Press Resources for all Brands, Sports and Innovations\n",
      "5541 https://mttr.net Matternet\n",
      "5542 https://mediatedmattergroup.com/silk-pavilion-2 mediatedmattergroup.com - mediatedmattergroup Ressourcer og information.\n",
      "5543 https://www.goviralgame.com/en Play GO VIRAL! | Stop Covid-19 misinformation spreading\n",
      "5544 https://www.dexigner.com/news/33236 nendo Designs Reusable Bags for Lawson\n",
      "5545 https://puceeduec-my.sharepoint.com/:f:/g/personal/cnbravo_puce_edu_ec/Er9x3ihnZq9Kl9GS97216zQBEO2D5F3uYO9r0VzBBwa_og?e=L0yUGP OneDrive\n",
      "5546 http://www.nodoapp.com/ NODO\n",
      "5547 https://materdesign.dk/products/mask-stool-natural-edition?_pos=1&_sid=24356027e&_ss=r Mater® | International\n",
      "5548 https://www.springwise.com/sustainability-innovation/food-drink/cheetah-fridges-food-waste Startup provides fully-stocked community fridges to address hunger amidst COVID-19 - Springwise\n",
      "5550 https://www.behance.net/gallery/93987649/Objetualidades Behance\n",
      "5551 https://danielamto.wixsite.com/bitadanielatorres/trabajos-1 Proceso | Bitadanielatorres\n",
      "5552 https://puceeduec-my.sharepoint.com/:u:/g/personal/ksperezn_puce_edu_ec/Eevp_hN7vOJKheYm5GbQLvwBavhtYAFU-7N_Plu6wXRDfQ?e=0B9TIH OneDrive for Business\n",
      "5553 https://co.boell.org/es/santa-maria-de-la-luz Radionovela Tierra de Agua | Heinrich Böll Stiftung | Bogotá office - Colombia\n",
      "5554 https://www.sensitive-servicedesign.net/index.html Sensitive Service Design\n",
      "5555 https://drive.google.com/file/d/1JOq5oaQi8XWCPYRBwfnvJRWWklDqV7I5/view?usp=sharing Siden blev ikke fundet\n",
      "5556 https://arqdis.uniandes.edu.co/daniela-bolanos-gana-mencion-de-honor-en-el-concurso-internacional-ie-spaces-for-creativity-orgullomarq/ Concurso de diseño 'IE Spaces for Creativity' | Uniandes\n",
      "5557 https://www.behance.net/gallery/93814793/AGROATLON Behance\n",
      "5558 https://puceeduec-my.sharepoint.com/:u:/g/personal/dnmanobanda_puce_edu_ec/EU3YSt1ltR9Jt0c4_X00S1EBWwgbZBXPHzKbpbBJ1WR9xw?e=hUFyCC OneDrive for Business\n",
      "5559 https://puceeduec-my.sharepoint.com/:f:/g/personal/kjromanc_puce_edu_ec/Ei0bFSvPBM9NgNDZT_IlFvgBmD3Gpk-yYkb7O97fBGM39w?e=ZupcEv OneDrive for Business\n",
      "5560 https://puceeduec-my.sharepoint.com/:f:/g/personal/jlopez585_puce_edu_ec/EmBYZ_QoyiZFlpwSIAF8f_QBoYbVGSuAPuZfh5__NUOoLQ?e=6Rt0om OneDrive for Business\n",
      "5561 https://drive.google.com/file/d/1fdTSuxBRBUimTOAfCkoHEFUlYd0vJdPT/view?usp=sharing PROYECTO GORETI CABEZAS.pdf - Google Drev\n",
      "5562 https://drive.google.com/file/d/1a-U9k6p7nS93PwbkJSVdoevNz1mUBBnq/view?usp=sharing Siden blev ikke fundet\n",
      "5563 https://puceeduec-my.sharepoint.com/:f:/g/personal/anfloresg_puce_edu_ec/EnNkAbXVlLtPlH1IT35uEAwBmGdztU5yCzPtbgyvtGeFFA?e=Uwf52U Error\n",
      "5564 https://deshowcase.london/projects/course/ide/saiga \n",
      "5565 https://www.pettocantarutti.com/masturbation-and-disability Masturbation and Disability | Petto Cantarutti\n",
      "5566 https://wokebabies.co.uk Woke Babies | Black Children's Books Delivered Monthly\n",
      "5567 https://www.blackinfashioncouncil.com Black In Fashion Council\n",
      "5568 https://maneno.dk/index Not Found\n",
      "5569 https://arcade1up.com/ Arcade1Up | Officially Licensed Arcade Cabinets\n",
      "5570 https://www.okmilo.com Milo - The Action Communicator\n",
      "5571 https://ouraring.com/ Oura Ring. Smart Ring for Fitness, Stress, Sleep & Health.\n",
      "5572 https://atarrayastem.uniandes.academy/index.php/proyectos/proyectos-en-desarrollo/biodiseno-colegios \n",
      "5573 https://atarrayastem.uniandes.academy/index.php/proyectos/proyectos-anteriores/showcase \n",
      "5574 https://duskcare.com/ DUSK - intimate essentials for the curious mind\n",
      "5575 https://heroapp.ai/ Cleartext\n",
      "5576 https://www.fastcompany.com/90565797/this-honey-is-real-but-it-wasnt-made-by-bees MeliBio's honey is real—but it wasn't made by bees\n",
      "5577 https://neighborhoodsnow.nyc Tools for community-led recovery - Neighborhoods Now\n",
      "5578 https://www.dutchinvertuals.nl/projects/de-buitenpost/ Droomparken - De Buitenpost - Dutch Invertuals\n",
      "5579 https://www.ottodiy.com/ Otto DIY\n",
      "5580 https://graduation.designskolenkolding.dk/project/consent-seesaw Consent on the Seesaw | Designskolen Kolding Graduation 2020\n",
      "5581 https://graduation.designskolenkolding.dk/project/recovery Recovery | Designskolen Kolding Graduation 2020\n",
      "5582 https://graduation.designskolenkolding.dk/project/tangible-aesthetic-circular-visions Tangible, Aesthetic, Circular Visions | Designskolen Kolding Graduation 2020\n",
      "5583 https://www.jenkeane.com/this-is-grown Error\n",
      "5584 https://graduation.designskolenkolding.dk/project/re-reconsider-reassemble-reborn Re: Reconsider Reassemble Reborn | Designskolen Kolding Graduation 2020\n",
      "5585 https://handibac.com/ Handibac - Hand, Surface & Screen Sanitizer 70% alcohol-based sanitiser\n",
      "5586 https://graduation.designskolenkolding.dk/project/habicave HabiCave | Designskolen Kolding Graduation 2020\n",
      "5587 https://rosiebroadhead.com/info/ info – Rosie Broadhead\n",
      "5588 https://www.segmed.ai/ Segmed\n",
      "5589 https://ofertex.com/product/antibacterial-ecomasks/ Antibacterial EcoMASKS - OFERTEX\n",
      "5590 https://www.materialsource.co.uk/the-indus-project-tile-based-bioremediation/ The Indus Project: Innovative tile-based bioremediation. | Material Source\n",
      "5591 https://www.instagram.com/tv/CGnz8BthCgc/?utm_source=ig_web_copy_link G4 Arquitectura Integral on Instagram: \"Concurso Index Award + UDD - 2020 - Pabellon Modular + Educacion + Ocio y cultura + Deporte #concurso #diseño #aquitectura #americalatina #udd\"\n",
      "5592 https://techcrunch.com/2020/05/17/fitbits-rival-amazfit-transparent-reusable-mask/ TechCrunch is part of the Yahoo family of brands\n",
      "5593 https://www.dysoncanada.ca/en/lighting/task-lighting/dyson-lightcycle-morph/dyson-lightcycle-morph-overview?utm_source=google&utm_medium=cpc&utm_campaign=ca_en_lg_552A_always-on_task-light_desk-light_ Dyson Solarcycle ™ Morph | Dyson Solarcycle Morph task light\n",
      "5594 https://hvaderlove.one/ Side ikke fundet\n",
      "5595 https://graduation.designskolenkolding.dk/project/sensory-tools-overcome-fear-needles Sensory Tools to Overcome Fear of Needles | Designskolen Kolding Graduation 2020\n",
      "5597 https://graduation.designskolenkolding.dk/project/sideline-magazine Sideline Magazine | Designskolen Kolding Graduation 2020\n",
      "5598 https://www.julialeeyh.com/projects/lena 404 - Page not found\n",
      "5599 https://www.sunderlandecho.com/business/how-classrooms-could-look-after-lockdown-sunderland-mum-designs-protective-classroom-dividers-2861220 Is this how classrooms could look after lockdown? Sunderland mum designs protective classroom dividers | Sunderland Echo\n",
      "5600 nan \n"
     ]
    }
   ],
   "source": [
    "# Scraping (can take ~11h for the full dataset)\n",
    "links = df[\"link\"]\n",
    "ff = init_browser()\n",
    "for id, link in links.items():\n",
    "    p_t = p_b = m_t = m_d = \"\"\n",
    "    try:\n",
    "        p_t, p_b, m_t, m_d = scrape(link, ff)\n",
    "        print(id, link, p_t)\n",
    "    except:\n",
    "        print(\"reattempting link: \", link)\n",
    "        ff = init_browser()\n",
    "        try:\n",
    "            p_t, p_b, m_t, m_d = scrape(link, ff, 5)\n",
    "            print(id, link, p_t)\n",
    "        except:\n",
    "            print(\"failed, resetting browser: \", link)\n",
    "            ff = init_browser()\n",
    "    df.loc[id, \"page_title\"] = p_t\n",
    "    df.loc[id, \"page_body\"] = p_b\n",
    "    df.loc[id, \"meta_title\"] = m_t\n",
    "    df.loc[id, \"meta_description\"] = m_d"
   ]
  },
  {
   "attachments": {},
   "cell_type": "markdown",
   "metadata": {},
   "source": [
    "### Translating"
   ]
  },
  {
   "cell_type": "code",
   "execution_count": 169,
   "metadata": {},
   "outputs": [],
   "source": [
    "# Translating a string in chunks of n words (to work around the length limit of translation requests)\n",
    "def translate(str, lang='es', n=200):\n",
    "    result = \"\"\n",
    "    try:\n",
    "        result = ts.google(str, lang)\n",
    "    except:\n",
    "        try:\n",
    "            arr = str.split()\n",
    "            result = ' '.join([ts.google(txt, lang) for txt in [' '.join(arr[i:i+n]) for i in range(0, len(arr), n)]])\n",
    "        except:\n",
    "            result = \"translation error\"\n",
    "    return result"
   ]
  },
  {
   "cell_type": "code",
   "execution_count": 170,
   "metadata": {},
   "outputs": [
    {
     "data": {
      "text/plain": [
       "id\n",
       "5522    Este diseño es el resultado del trabajo multid...\n",
       "5545    Para solucionar esta situación, yo propuse 5 p...\n",
       "5546    NODO es un servicio y plataforma de comunicaci...\n",
       "5551    El diseño se basa en el concepto de castillo m...\n",
       "5552    La situación ha generado problemas en todos lo...\n",
       "Name: long_description, dtype: object"
      ]
     },
     "execution_count": 170,
     "metadata": {},
     "output_type": "execute_result"
    }
   ],
   "source": [
    "# Selecting projects from Diseño Responde (these have text written in Spanish)\n",
    "dr = df['competition_id'] != 0\n",
    "df.loc[dr, 'long_description'].head()"
   ]
  },
  {
   "cell_type": "code",
   "execution_count": 177,
   "metadata": {},
   "outputs": [
    {
     "name": "stdout",
     "output_type": "stream",
     "text": [
      "Number of projects to translate: 399\n"
     ]
    }
   ],
   "source": [
    "# Translating from Spanish to English\n",
    "print(f\"Number of projects to translate: {len(df[dr])}\")\n",
    "cols_translate = ['name', 'long_description', 'page_title', 'page_body', 'meta_title', 'meta_description']\n",
    "for col in cols_translate:\n",
    "    df.loc[dr, col] = df.loc[dr, col].map(lambda x: translate(x))"
   ]
  },
  {
   "cell_type": "code",
   "execution_count": 178,
   "metadata": {},
   "outputs": [
    {
     "data": {
      "text/plain": [
       "id\n",
       "5522    This design is the result of multidisciplinary...\n",
       "5545    To solve this situation, I proposed 5 graphic ...\n",
       "5546    Node is a communication and notification servi...\n",
       "5551    The design is based on the concept of Medieval...\n",
       "5552    The situation has generated problems in all as...\n",
       "Name: long_description, dtype: object"
      ]
     },
     "execution_count": 178,
     "metadata": {},
     "output_type": "execute_result"
    }
   ],
   "source": [
    "# Descriptions after translation\n",
    "df.loc[dr, 'long_description'].head()"
   ]
  },
  {
   "attachments": {},
   "cell_type": "markdown",
   "metadata": {},
   "source": [
    "### Removing rarely used goals"
   ]
  },
  {
   "cell_type": "code",
   "execution_count": 179,
   "metadata": {},
   "outputs": [],
   "source": [
    "# Removing a goal from the dataset\n",
    "def removeGoal(c):\n",
    "    df.loc[df['goals'].str.contains(f\"{c}\"), \"goals\"] = df.loc[df['goals'].str.contains(f\"{c}\"), \"goals\"].map(lambda x: x.replace(f\"{c}\", \"\").strip())"
   ]
  },
  {
   "cell_type": "code",
   "execution_count": 180,
   "metadata": {},
   "outputs": [
    {
     "name": "stdout",
     "output_type": "stream",
     "text": [
      "1: 3921\n",
      "2: 2165\n",
      "3: 2697\n",
      "4: 807\n",
      "5: 694\n",
      "6: 493\n",
      "7: 584\n",
      "8: 582\n",
      "9: 1233\n",
      "10: 465\n",
      "11: 1025\n",
      "12: 1388\n",
      "13: 567\n",
      "14: 189\n",
      "15: 471\n",
      "16: 231\n",
      "17: 175\n",
      "18: 109\n",
      "19: 289\n",
      "20: 392\n",
      "21: 148\n",
      "22: 156\n",
      "23: 7\n",
      "24: 2\n",
      "25: 16\n"
     ]
    }
   ],
   "source": [
    "# Checking the count of each goal being used\n",
    "for g in range(1, 26):\n",
    "    print(f\"{g}: {sum(df['goals'].str.contains(f'{g}'))}\")"
   ]
  },
  {
   "cell_type": "code",
   "execution_count": 181,
   "metadata": {},
   "outputs": [],
   "source": [
    "# Removing goals that are barely used (otherwise, the validation set might contain goals that aren't in the training set)\n",
    "removeGoal(23)\n",
    "removeGoal(24)\n",
    "removeGoal(25)"
   ]
  },
  {
   "cell_type": "code",
   "execution_count": 182,
   "metadata": {},
   "outputs": [
    {
     "data": {
      "text/plain": [
       "Int64Index([7263, 7542], dtype='int64', name='id')"
      ]
     },
     "execution_count": 182,
     "metadata": {},
     "output_type": "execute_result"
    }
   ],
   "source": [
    "# Removing designs with no goals left\n",
    "ids = df.loc[df['goals'] == \"\"].index\n",
    "df = df.drop(index=ids)\n",
    "ids"
   ]
  },
  {
   "attachments": {},
   "cell_type": "markdown",
   "metadata": {},
   "source": [
    "### Marking the training, validation and test sets"
   ]
  },
  {
   "cell_type": "code",
   "execution_count": 183,
   "metadata": {},
   "outputs": [
    {
     "data": {
      "text/plain": [
       "'total number of rows: 7460 (10% is 746)'"
      ]
     },
     "execution_count": 183,
     "metadata": {},
     "output_type": "execute_result"
    }
   ],
   "source": [
    "# Checking the number of rows for splitting\n",
    "total = len(df)\n",
    "tenth = round(len(df)*0.1)\n",
    "f\"total number of rows: {total} (10% is {tenth})\""
   ]
  },
  {
   "cell_type": "code",
   "execution_count": 184,
   "metadata": {},
   "outputs": [],
   "source": [
    "# Setting initial validation values\n",
    "df[\"is_valid\"] = 0"
   ]
  },
  {
   "cell_type": "code",
   "execution_count": 185,
   "metadata": {},
   "outputs": [
    {
     "data": {
      "text/plain": [
       "'Number of projects in the training set: 5968'"
      ]
     },
     "execution_count": 185,
     "metadata": {},
     "output_type": "execute_result"
    }
   ],
   "source": [
    "# Training set: first 80%\n",
    "f\"Number of projects in the training set: {len(df.iloc[0:total-tenth*2])}\""
   ]
  },
  {
   "cell_type": "code",
   "execution_count": 186,
   "metadata": {},
   "outputs": [
    {
     "data": {
      "text/plain": [
       "'Number of projects in the training set: 746'"
      ]
     },
     "execution_count": 186,
     "metadata": {},
     "output_type": "execute_result"
    }
   ],
   "source": [
    "# Validation set: middle 10%\n",
    "df.iloc[total-tenth*2:total-tenth][\"is_valid\"] = 1\n",
    "f\"Number of projects in the training set: {sum(df['is_valid'] == 1)}\""
   ]
  },
  {
   "cell_type": "code",
   "execution_count": 187,
   "metadata": {},
   "outputs": [
    {
     "data": {
      "text/plain": [
       "'Number of projects in the test set: 746'"
      ]
     },
     "execution_count": 187,
     "metadata": {},
     "output_type": "execute_result"
    }
   ],
   "source": [
    "# Test set: last 10%\n",
    "df.iloc[total-tenth:total][\"is_valid\"] = 2\n",
    "f\"Number of projects in the test set: {sum(df['is_valid'] == 2)}\""
   ]
  },
  {
   "attachments": {},
   "cell_type": "markdown",
   "metadata": {},
   "source": [
    "### Setting trust"
   ]
  },
  {
   "cell_type": "code",
   "execution_count": 188,
   "metadata": {},
   "outputs": [
    {
     "data": {
      "text/plain": [
       "'Number of projects nominated by members of The Index Project: 3239'"
      ]
     },
     "execution_count": 188,
     "metadata": {},
     "output_type": "execute_result"
    }
   ],
   "source": [
    "# Checking whether the project was nominated by someone from The Index Project\n",
    "indexUserIds = pd.read_csv(\"data/original/index-ids.csv\", engine=\"python\", index_col=\"id\").index\n",
    "df[\"tip\"] = df[\"user_id\"].map(lambda x: x in indexUserIds).astype(int)\n",
    "f\"Number of projects nominated by members of The Index Project: {sum(df['tip'])}\""
   ]
  },
  {
   "cell_type": "code",
   "execution_count": 189,
   "metadata": {},
   "outputs": [
    {
     "data": {
      "text/plain": [
       "'Number of projects that were self-nominated: 420'"
      ]
     },
     "execution_count": 189,
     "metadata": {},
     "output_type": "execute_result"
    }
   ],
   "source": [
    "# Marking projects from Diseno Responde as self nominated ones \n",
    "# (the attribute didn't exist when the competition took place, and all nominees from there were self-nominated projects)\n",
    "df.loc[df[\"competition_id\"] == 1, \"self\"] = 1\n",
    "f\"Number of projects that were self-nominated: {sum(df['self'])}\""
   ]
  },
  {
   "cell_type": "code",
   "execution_count": 190,
   "metadata": {},
   "outputs": [
    {
     "data": {
      "text/plain": [
       "id\n",
       "1       0.000000\n",
       "10      0.001454\n",
       "16      0.002424\n",
       "17      0.002586\n",
       "18      0.002747\n",
       "          ...   \n",
       "6185    0.999354\n",
       "6186    0.999515\n",
       "6187    0.999677\n",
       "6188    0.999838\n",
       "6189    1.000000\n",
       "Name: time, Length: 5968, dtype: float64"
      ]
     },
     "execution_count": 190,
     "metadata": {},
     "output_type": "execute_result"
    }
   ],
   "source": [
    "# Setting the \"time\" attribute based on relative creation time\n",
    "train_set = df[\"is_valid\"] == 0\n",
    "# note: created_at had to be substituted by id as a proxy, since the created_at column contains many errors\n",
    "# old line: df.loc[train_set, \"time\"] = df.loc[train_set, \"created_at\"].map(lambda x: datetime.datetime.strptime(x, \"%Y-%m-%d %H:%M:%S\").timestamp())\n",
    "df.loc[train_set, \"time\"] = df.loc[train_set].index\n",
    "minTime = df.loc[train_set, \"time\"].min()\n",
    "maxTime = df.loc[train_set, \"time\"].max()\n",
    "diffTime = maxTime - minTime\n",
    "df.loc[train_set, \"time\"] = df.loc[train_set, \"time\"].map(lambda x: (x - minTime) / diffTime)\n",
    "df.loc[train_set, \"time\"]"
   ]
  },
  {
   "cell_type": "code",
   "execution_count": 191,
   "metadata": {},
   "outputs": [
    {
     "data": {
      "text/plain": [
       "id\n",
       "1       0.200000\n",
       "10      0.201164\n",
       "16      0.201939\n",
       "17      0.202069\n",
       "18      0.202198\n",
       "          ...   \n",
       "6185    0.999483\n",
       "6186    0.999612\n",
       "6187    0.999741\n",
       "6188    0.799871\n",
       "6189    0.800000\n",
       "Name: trust, Length: 5968, dtype: float64"
      ]
     },
     "execution_count": 191,
     "metadata": {},
     "output_type": "execute_result"
    }
   ],
   "source": [
    "# Setting the \"trust\" attribute\n",
    "df.loc[train_set, \"trust\"] = df.loc[train_set].apply(lambda x: 0.8 * x[\"time\"] + 0.2 * max(x[\"self\"], x[\"tip\"]), axis=1)\n",
    "df.loc[train_set, \"trust\"]"
   ]
  },
  {
   "attachments": {},
   "cell_type": "markdown",
   "metadata": {},
   "source": [
    "### Selecting specific columns"
   ]
  },
  {
   "cell_type": "code",
   "execution_count": 192,
   "metadata": {},
   "outputs": [
    {
     "data": {
      "text/html": [
       "<div>\n",
       "<style scoped>\n",
       "    .dataframe tbody tr th:only-of-type {\n",
       "        vertical-align: middle;\n",
       "    }\n",
       "\n",
       "    .dataframe tbody tr th {\n",
       "        vertical-align: top;\n",
       "    }\n",
       "\n",
       "    .dataframe thead th {\n",
       "        text-align: right;\n",
       "    }\n",
       "</style>\n",
       "<table border=\"1\" class=\"dataframe\">\n",
       "  <thead>\n",
       "    <tr style=\"text-align: right;\">\n",
       "      <th></th>\n",
       "      <th>name</th>\n",
       "      <th>long_description</th>\n",
       "      <th>page_title</th>\n",
       "      <th>page_body</th>\n",
       "      <th>meta_title</th>\n",
       "      <th>meta_description</th>\n",
       "      <th>category</th>\n",
       "      <th>goals</th>\n",
       "      <th>trust</th>\n",
       "      <th>is_valid</th>\n",
       "    </tr>\n",
       "    <tr>\n",
       "      <th>id</th>\n",
       "      <th></th>\n",
       "      <th></th>\n",
       "      <th></th>\n",
       "      <th></th>\n",
       "      <th></th>\n",
       "      <th></th>\n",
       "      <th></th>\n",
       "      <th></th>\n",
       "      <th></th>\n",
       "      <th></th>\n",
       "    </tr>\n",
       "  </thead>\n",
       "  <tbody>\n",
       "    <tr>\n",
       "      <th>1</th>\n",
       "      <td>Scanadu</td>\n",
       "      <td>As if it is reading your mind, the Scanadu Sco...</td>\n",
       "      <td>Scanadu Scout™ - Scanadu.com</td>\n",
       "      <td>Skip to content Scanadu Scout™ Reviews Neuigke...</td>\n",
       "      <td>Scanadu Scout™ - Scanadu.com</td>\n",
       "      <td>A scanner packed with sensors that enables any...</td>\n",
       "      <td>1</td>\n",
       "      <td>3</td>\n",
       "      <td>0.200000</td>\n",
       "      <td>0</td>\n",
       "    </tr>\n",
       "    <tr>\n",
       "      <th>10</th>\n",
       "      <td>Oculus Rift</td>\n",
       "      <td>Virtual Reality have been talked about for yea...</td>\n",
       "      <td>Oculus VR headsets, games and equipment – Meta...</td>\n",
       "      <td>NaN</td>\n",
       "      <td>NaN</td>\n",
       "      <td>NaN</td>\n",
       "      <td>4</td>\n",
       "      <td>17</td>\n",
       "      <td>0.201164</td>\n",
       "      <td>0</td>\n",
       "    </tr>\n",
       "    <tr>\n",
       "      <th>16</th>\n",
       "      <td>WRISTIFY</td>\n",
       "      <td>Wristify by Embr Labs uses all-natural waves o...</td>\n",
       "      <td>Personal Cooling Device for Menopause Hot Flas...</td>\n",
       "      <td>Skip to content End of Summer Sale | Use code ...</td>\n",
       "      <td>Personal Cooling Device for Menopause Hot Flas...</td>\n",
       "      <td>Founded at MIT, the Embr Wave® wristband quick...</td>\n",
       "      <td>1</td>\n",
       "      <td>3</td>\n",
       "      <td>0.201939</td>\n",
       "      <td>0</td>\n",
       "    </tr>\n",
       "    <tr>\n",
       "      <th>17</th>\n",
       "      <td>Liftware</td>\n",
       "      <td>The Liftware system is designed for people who...</td>\n",
       "      <td>Liftware - Eat with confidence</td>\n",
       "      <td>It looks like you're accessing this page from ...</td>\n",
       "      <td>Liftware - Eat with confidence</td>\n",
       "      <td>Liftware's selection of stabilizing and leveli...</td>\n",
       "      <td>1</td>\n",
       "      <td>3</td>\n",
       "      <td>0.202069</td>\n",
       "      <td>0</td>\n",
       "    </tr>\n",
       "    <tr>\n",
       "      <th>18</th>\n",
       "      <td>Sproutling</td>\n",
       "      <td>A wearable band for your baby, a smart charger...</td>\n",
       "      <td>NaN</td>\n",
       "      <td>NaN</td>\n",
       "      <td>NaN</td>\n",
       "      <td>NaN</td>\n",
       "      <td>1</td>\n",
       "      <td>3</td>\n",
       "      <td>0.202198</td>\n",
       "      <td>0</td>\n",
       "    </tr>\n",
       "  </tbody>\n",
       "</table>\n",
       "</div>"
      ],
      "text/plain": [
       "           name                                   long_description  \\\n",
       "id                                                                   \n",
       "1       Scanadu  As if it is reading your mind, the Scanadu Sco...   \n",
       "10  Oculus Rift  Virtual Reality have been talked about for yea...   \n",
       "16    WRISTIFY   Wristify by Embr Labs uses all-natural waves o...   \n",
       "17     Liftware  The Liftware system is designed for people who...   \n",
       "18  Sproutling   A wearable band for your baby, a smart charger...   \n",
       "\n",
       "                                           page_title  \\\n",
       "id                                                      \n",
       "1                        Scanadu Scout™ - Scanadu.com   \n",
       "10  Oculus VR headsets, games and equipment – Meta...   \n",
       "16  Personal Cooling Device for Menopause Hot Flas...   \n",
       "17                     Liftware - Eat with confidence   \n",
       "18                                                NaN   \n",
       "\n",
       "                                            page_body  \\\n",
       "id                                                      \n",
       "1   Skip to content Scanadu Scout™ Reviews Neuigke...   \n",
       "10                                                NaN   \n",
       "16  Skip to content End of Summer Sale | Use code ...   \n",
       "17  It looks like you're accessing this page from ...   \n",
       "18                                                NaN   \n",
       "\n",
       "                                           meta_title  \\\n",
       "id                                                      \n",
       "1                        Scanadu Scout™ - Scanadu.com   \n",
       "10                                                NaN   \n",
       "16  Personal Cooling Device for Menopause Hot Flas...   \n",
       "17                     Liftware - Eat with confidence   \n",
       "18                                                NaN   \n",
       "\n",
       "                                     meta_description category goals  \\\n",
       "id                                                                     \n",
       "1   A scanner packed with sensors that enables any...        1     3   \n",
       "10                                                NaN        4    17   \n",
       "16  Founded at MIT, the Embr Wave® wristband quick...        1     3   \n",
       "17  Liftware's selection of stabilizing and leveli...        1     3   \n",
       "18                                                NaN        1     3   \n",
       "\n",
       "       trust  is_valid  \n",
       "id                      \n",
       "1   0.200000         0  \n",
       "10  0.201164         0  \n",
       "16  0.201939         0  \n",
       "17  0.202069         0  \n",
       "18  0.202198         0  "
      ]
     },
     "execution_count": 192,
     "metadata": {},
     "output_type": "execute_result"
    }
   ],
   "source": [
    "# Selecting specific columns to keep\n",
    "cols = ['name', 'long_description', 'page_title', 'page_body', 'meta_title', 'meta_description', 'category', 'goals', 'trust', 'is_valid']\n",
    "df = df.loc[:, cols]\n",
    "df.head()"
   ]
  },
  {
   "attachments": {},
   "cell_type": "markdown",
   "metadata": {},
   "source": [
    "### Saving to files"
   ]
  },
  {
   "cell_type": "code",
   "execution_count": 198,
   "metadata": {},
   "outputs": [],
   "source": [
    "# Saving training and testing sets\n",
    "df.loc[df[\"is_valid\"] <= 1].to_csv('designs-train.csv', sep=\"‡\")\n",
    "df.loc[df[\"is_valid\"] == 2].to_csv('designs-test.csv', sep=\"‡\")"
   ]
  }
 ],
 "metadata": {
  "kernelspec": {
   "display_name": "Python 3",
   "language": "python",
   "name": "python3"
  },
  "language_info": {
   "codemirror_mode": {
    "name": "ipython",
    "version": 3
   },
   "file_extension": ".py",
   "mimetype": "text/x-python",
   "name": "python",
   "nbconvert_exporter": "python",
   "pygments_lexer": "ipython3",
   "version": "3.10.5 (tags/v3.10.5:f377153, Jun  6 2022, 16:14:13) [MSC v.1929 64 bit (AMD64)]"
  },
  "orig_nbformat": 4,
  "vscode": {
   "interpreter": {
    "hash": "4db1f1a88d73c93e1cdd5f7acbfed242a4ffdc2b9cf86a18b0bda2640e536107"
   }
  }
 },
 "nbformat": 4,
 "nbformat_minor": 2
}
